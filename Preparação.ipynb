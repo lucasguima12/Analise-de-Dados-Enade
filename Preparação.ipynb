{
 "cells": [
  {
   "cell_type": "code",
   "execution_count": 1,
   "id": "ca1f1401",
   "metadata": {},
   "outputs": [],
   "source": [
    "import pandas as pd\n",
    "import matplotlib"
   ]
  },
  {
   "cell_type": "code",
   "execution_count": 2,
   "id": "1f4cd87b",
   "metadata": {},
   "outputs": [],
   "source": [
    "colunas = ['NU_ANO', 'CO_CURSO', 'NT_GER']\n",
    "df_nota = pd.read_csv('microdados_Enade_2021_LGPD\\dados\\microdados2021_arq3.txt',sep = ';',usecols = colunas )\n",
    "df_curso = pd.read_csv('microdados_Enade_2021_LGPD\\dados\\microdados2021_arq1.txt', sep = ';')"
   ]
  },
  {
   "cell_type": "code",
   "execution_count": 3,
   "id": "13e2bfe7",
   "metadata": {},
   "outputs": [],
   "source": [
    "## colocando valor 0 onde a nota for nula\n",
    "df_nota = df_nota.fillna(0)"
   ]
  },
  {
   "cell_type": "code",
   "execution_count": 6,
   "id": "d759ba5e",
   "metadata": {},
   "outputs": [],
   "source": [
    "#como so precisamos relacionar cada CO_CURSO com suas respectivas caracteristicas, podemos remover as linhas duplicadas.\n",
    "df_curso = df_curso.drop_duplicates()"
   ]
  },
  {
   "cell_type": "code",
   "execution_count": 7,
   "id": "2aa37451",
   "metadata": {},
   "outputs": [],
   "source": [
    "# queremos somente as licenciaturas\n",
    "co_grupo = [702, 904, 905, 906, 1402, 1502, 1602, 2001, 2402, 2501, 3002, 3202, 3502, 4301, 5402, 6407]\n",
    "df_curso = df_curso[df_curso['CO_GRUPO'].isin(co_grupo)]"
   ]
  },
  {
   "cell_type": "code",
   "execution_count": 8,
   "id": "c88e77f9",
   "metadata": {},
   "outputs": [
    {
     "data": {
      "text/html": [
       "<div>\n",
       "<style scoped>\n",
       "    .dataframe tbody tr th:only-of-type {\n",
       "        vertical-align: middle;\n",
       "    }\n",
       "\n",
       "    .dataframe tbody tr th {\n",
       "        vertical-align: top;\n",
       "    }\n",
       "\n",
       "    .dataframe thead th {\n",
       "        text-align: right;\n",
       "    }\n",
       "</style>\n",
       "<table border=\"1\" class=\"dataframe\">\n",
       "  <thead>\n",
       "    <tr style=\"text-align: right;\">\n",
       "      <th></th>\n",
       "      <th>NU_ANO</th>\n",
       "      <th>CO_CURSO</th>\n",
       "      <th>NT_GER</th>\n",
       "    </tr>\n",
       "  </thead>\n",
       "  <tbody>\n",
       "    <tr>\n",
       "      <th>0</th>\n",
       "      <td>2021</td>\n",
       "      <td>14346</td>\n",
       "      <td>0.0</td>\n",
       "    </tr>\n",
       "    <tr>\n",
       "      <th>1</th>\n",
       "      <td>2021</td>\n",
       "      <td>63045</td>\n",
       "      <td>0.0</td>\n",
       "    </tr>\n",
       "    <tr>\n",
       "      <th>2</th>\n",
       "      <td>2021</td>\n",
       "      <td>45498</td>\n",
       "      <td>0.0</td>\n",
       "    </tr>\n",
       "    <tr>\n",
       "      <th>3</th>\n",
       "      <td>2021</td>\n",
       "      <td>18312</td>\n",
       "      <td>0.0</td>\n",
       "    </tr>\n",
       "    <tr>\n",
       "      <th>4</th>\n",
       "      <td>2021</td>\n",
       "      <td>14349</td>\n",
       "      <td>0.0</td>\n",
       "    </tr>\n",
       "    <tr>\n",
       "      <th>...</th>\n",
       "      <td>...</td>\n",
       "      <td>...</td>\n",
       "      <td>...</td>\n",
       "    </tr>\n",
       "    <tr>\n",
       "      <th>489861</th>\n",
       "      <td>2021</td>\n",
       "      <td>70985</td>\n",
       "      <td>0.0</td>\n",
       "    </tr>\n",
       "    <tr>\n",
       "      <th>489862</th>\n",
       "      <td>2021</td>\n",
       "      <td>70985</td>\n",
       "      <td>0.0</td>\n",
       "    </tr>\n",
       "    <tr>\n",
       "      <th>489863</th>\n",
       "      <td>2021</td>\n",
       "      <td>70985</td>\n",
       "      <td>0.0</td>\n",
       "    </tr>\n",
       "    <tr>\n",
       "      <th>489864</th>\n",
       "      <td>2021</td>\n",
       "      <td>70985</td>\n",
       "      <td>0.0</td>\n",
       "    </tr>\n",
       "    <tr>\n",
       "      <th>489865</th>\n",
       "      <td>2021</td>\n",
       "      <td>70985</td>\n",
       "      <td>0.0</td>\n",
       "    </tr>\n",
       "  </tbody>\n",
       "</table>\n",
       "<p>489866 rows × 3 columns</p>\n",
       "</div>"
      ],
      "text/plain": [
       "        NU_ANO  CO_CURSO  NT_GER\n",
       "0         2021     14346     0.0\n",
       "1         2021     63045     0.0\n",
       "2         2021     45498     0.0\n",
       "3         2021     18312     0.0\n",
       "4         2021     14349     0.0\n",
       "...        ...       ...     ...\n",
       "489861    2021     70985     0.0\n",
       "489862    2021     70985     0.0\n",
       "489863    2021     70985     0.0\n",
       "489864    2021     70985     0.0\n",
       "489865    2021     70985     0.0\n",
       "\n",
       "[489866 rows x 3 columns]"
      ]
     },
     "execution_count": 8,
     "metadata": {},
     "output_type": "execute_result"
    }
   ],
   "source": [
    "df_nota"
   ]
  },
  {
   "cell_type": "code",
   "execution_count": 9,
   "id": "d7522717",
   "metadata": {},
   "outputs": [],
   "source": [
    "#fizemos um inner join, somente mostrando os dados onde o CO_CURSO se encontra nos dois dataframes\n",
    "df_merged = df_nota.merge(df_curso, on = 'CO_CURSO')"
   ]
  },
  {
   "cell_type": "code",
   "execution_count": 10,
   "id": "f2744b1d",
   "metadata": {},
   "outputs": [],
   "source": [
    "df_merged.drop('NU_ANO_y', axis = 1, inplace = True)"
   ]
  },
  {
   "cell_type": "code",
   "execution_count": 11,
   "id": "6638f528",
   "metadata": {},
   "outputs": [],
   "source": [
    "mapeamento_estados = {\n",
    "    11 : 'Rondônia (RO)',\n",
    "    12 : 'Acre (AC)',\n",
    "    13 : 'Amazonas (AM)',\n",
    "    14 : 'Roraima (RR)',\n",
    "    15 : 'Pará (PA)',\n",
    "    16 : 'Amapa (AP)',\n",
    "    17 : 'Tocantins (TO)',\n",
    "    21 : 'Maranhão (MA)',\n",
    "    22 : 'Piauí (PI)',\n",
    "    23 : 'Ceará (CE)',\n",
    "    24 : 'Rio Grande do Norte (RN)',\n",
    "    25 : 'Paraíba (PB)',\n",
    "    26 : 'Pernambuco (PE)',\n",
    "    27 : 'Alagoas (AL)',\n",
    "    28 : 'Sergipe (SE)',\n",
    "    29 : 'Bahia (BA)',\n",
    "    31 : 'Minas gerais (MG)',\n",
    "    32 : 'Espírito Santo (ES)',\n",
    "    33 : 'Rio de Janeiro (RJ)',\n",
    "    35 : 'São Paulo (SP)',\n",
    "    41 : 'Paraná (PR)',\n",
    "    42 : 'Santa Catarina (SC)',\n",
    "    43 : 'Rio Grande do Sul (RS)',\n",
    "    50 : 'Mato Grosso do Sul (MS)',\n",
    "    51 : 'Mato Grosso (MT)',\n",
    "    52 : 'Goiás (GO)',\n",
    "    53 : 'Distrito federal (DF)'\n",
    "}\n",
    "\n",
    "\n",
    "df_merged['CO_UF_CURSO'] = df_merged['CO_UF_CURSO'].map(mapeamento_estados)"
   ]
  },
  {
   "cell_type": "code",
   "execution_count": 12,
   "id": "1f537fe6",
   "metadata": {},
   "outputs": [],
   "source": [
    "df_mais_75 = df_merged.loc[df_merged['NT_GER'] > 75.0]"
   ]
  },
  {
   "cell_type": "code",
   "execution_count": 13,
   "id": "730ea6d3",
   "metadata": {},
   "outputs": [],
   "source": [
    "porcentagem_brasil = round((df_mais_75.shape[0] / df_merged.shape[0]) * 100, 4)"
   ]
  },
  {
   "cell_type": "code",
   "execution_count": 14,
   "id": "c81fbabd",
   "metadata": {},
   "outputs": [
    {
     "name": "stdout",
     "output_type": "stream",
     "text": [
      "Porcentagem de quem tirou mais que 75 brasil todo é de 0.5718%\n"
     ]
    }
   ],
   "source": [
    "print(f\"Porcentagem de quem tirou mais que 75 brasil todo é de {porcentagem_brasil}%\")"
   ]
  },
  {
   "cell_type": "code",
   "execution_count": 15,
   "id": "d1d2f5a2",
   "metadata": {},
   "outputs": [],
   "source": [
    "total_por_estado = df_merged['CO_UF_CURSO'].value_counts()"
   ]
  },
  {
   "cell_type": "code",
   "execution_count": 16,
   "id": "077e62cd",
   "metadata": {},
   "outputs": [],
   "source": [
    "total_mais_75 = df_mais_75['CO_UF_CURSO'].value_counts()"
   ]
  },
  {
   "cell_type": "code",
   "execution_count": 17,
   "id": "5d8dc7fc",
   "metadata": {},
   "outputs": [
    {
     "data": {
      "text/plain": [
       "São Paulo (SP)              576\n",
       "Rio de Janeiro (RJ)         302\n",
       "Minas gerais (MG)           275\n",
       "Paraná (PR)                 252\n",
       "Rio Grande do Sul (RS)      121\n",
       "Santa Catarina (SC)          85\n",
       "Distrito federal (DF)        75\n",
       "Bahia (BA)                   63\n",
       "Ceará (CE)                   52\n",
       "Pernambuco (PE)              48\n",
       "Rio Grande do Norte (RN)     31\n",
       "Goiás (GO)                   31\n",
       "Espírito Santo (ES)          30\n",
       "Mato Grosso do Sul (MS)      26\n",
       "Piauí (PI)                   20\n",
       "Paraíba (PB)                 20\n",
       "Maranhão (MA)                17\n",
       "Amazonas (AM)                13\n",
       "Alagoas (AL)                 12\n",
       "Sergipe (SE)                 10\n",
       "Mato Grosso (MT)              4\n",
       "Tocantins (TO)                2\n",
       "Acre (AC)                     2\n",
       "Pará (PA)                     1\n",
       "Amapa (AP)                    1\n",
       "Roraima (RR)                  1\n",
       "Name: CO_UF_CURSO, dtype: int64"
      ]
     },
     "execution_count": 17,
     "metadata": {},
     "output_type": "execute_result"
    }
   ],
   "source": [
    "total_mais_75"
   ]
  },
  {
   "cell_type": "code",
   "execution_count": 18,
   "id": "d5b7d388",
   "metadata": {},
   "outputs": [
    {
     "data": {
      "text/plain": [
       "São Paulo (SP)              95696\n",
       "Minas gerais (MG)           49136\n",
       "Paraná (PR)                 42046\n",
       "Rio de Janeiro (RJ)         40224\n",
       "Santa Catarina (SC)         18627\n",
       "Ceará (CE)                  14028\n",
       "Mato Grosso do Sul (MS)     13502\n",
       "Bahia (BA)                   9647\n",
       "Rio Grande do Sul (RS)       9046\n",
       "Pernambuco (PE)              8593\n",
       "Maranhão (MA)                7942\n",
       "Goiás (GO)                   6777\n",
       "Pará (PA)                    6353\n",
       "Distrito federal (DF)        5864\n",
       "Piauí (PI)                   5570\n",
       "Alagoas (AL)                 4704\n",
       "Paraíba (PB)                 4196\n",
       "Amazonas (AM)                3766\n",
       "Rio Grande do Norte (RN)     3021\n",
       "Espírito Santo (ES)          2946\n",
       "Mato Grosso (MT)             2882\n",
       "Sergipe (SE)                 2607\n",
       "Tocantins (TO)               1181\n",
       "Amapa (AP)                   1066\n",
       "Rondônia (RO)                1041\n",
       "Acre (AC)                     977\n",
       "Roraima (RR)                  591\n",
       "Name: CO_UF_CURSO, dtype: int64"
      ]
     },
     "execution_count": 18,
     "metadata": {},
     "output_type": "execute_result"
    }
   ],
   "source": [
    "total_por_estado"
   ]
  },
  {
   "cell_type": "code",
   "execution_count": 19,
   "id": "c736b71e",
   "metadata": {},
   "outputs": [],
   "source": [
    "porcentagem_estado = (total_mais_75 / total_por_estado) * 100"
   ]
  },
  {
   "cell_type": "code",
   "execution_count": 20,
   "id": "08613020",
   "metadata": {},
   "outputs": [
    {
     "data": {
      "text/plain": [
       "Acre (AC)                   0.204708\n",
       "Alagoas (AL)                0.255102\n",
       "Amapa (AP)                  0.093809\n",
       "Amazonas (AM)               0.345194\n",
       "Bahia (BA)                  0.653053\n",
       "Ceará (CE)                  0.370687\n",
       "Distrito federal (DF)       1.278990\n",
       "Espírito Santo (ES)         1.018330\n",
       "Goiás (GO)                  0.457430\n",
       "Maranhão (MA)               0.214052\n",
       "Mato Grosso (MT)            0.138793\n",
       "Mato Grosso do Sul (MS)     0.192564\n",
       "Minas gerais (MG)           0.559671\n",
       "Paraná (PR)                 0.599344\n",
       "Paraíba (PB)                0.476644\n",
       "Pará (PA)                   0.015741\n",
       "Pernambuco (PE)             0.558594\n",
       "Piauí (PI)                  0.359066\n",
       "Rio Grande do Norte (RN)    1.026150\n",
       "Rio Grande do Sul (RS)      1.337608\n",
       "Rio de Janeiro (RJ)         0.750796\n",
       "Rondônia (RO)                    NaN\n",
       "Roraima (RR)                0.169205\n",
       "Santa Catarina (SC)         0.456327\n",
       "Sergipe (SE)                0.383583\n",
       "São Paulo (SP)              0.601906\n",
       "Tocantins (TO)              0.169348\n",
       "Name: CO_UF_CURSO, dtype: float64"
      ]
     },
     "execution_count": 20,
     "metadata": {},
     "output_type": "execute_result"
    }
   ],
   "source": [
    "porcentagem_estado"
   ]
  },
  {
   "cell_type": "code",
   "execution_count": 21,
   "id": "900ecbe1",
   "metadata": {},
   "outputs": [
    {
     "name": "stdout",
     "output_type": "stream",
     "text": [
      "Porcentagem de quem tirou mais que 75 brasil todo é de 0.5718%\n"
     ]
    }
   ],
   "source": [
    "print(f\"Porcentagem de quem tirou mais que 75 brasil todo é de {porcentagem_brasil}%\")"
   ]
  },
  {
   "cell_type": "markdown",
   "id": "e744a549",
   "metadata": {},
   "source": [
    "## Organizar e criar o código para ler as bases dos dois últimos enades que avaliaram os cursos de interesse (bases de 2017 e 2014)."
   ]
  },
  {
   "cell_type": "code",
   "execution_count": 22,
   "id": "89d5c51a",
   "metadata": {},
   "outputs": [
    {
     "name": "stderr",
     "output_type": "stream",
     "text": [
      "C:\\Users\\cardo\\AppData\\Local\\Temp\\ipykernel_68924\\3526205474.py:2: DtypeWarning: Columns (1,2,7) have mixed types. Specify dtype option on import or set low_memory=False.\n",
      "  df_curso_2014 = pd.read_csv('microdados_Enade_2014_LGPD\\dados\\microdados2014_arq1.txt', sep = ';')\n"
     ]
    }
   ],
   "source": [
    "colunas = ['CO_CURSO', 'CO_GRUPO', 'CO_CATEGAD', 'CO_UF_CURSO', 'ID_LICENCIATURAS']\n",
    "df_curso_2014 = pd.read_csv('microdados_Enade_2014_LGPD\\dados\\microdados2014_arq1.txt', sep = ';')\n",
    "df_curso_2017 = pd.read_csv('microdados_Enade_2017_LGPD\\dados\\microdados2017_arq1.txt', sep = ';')"
   ]
  },
  {
   "cell_type": "code",
   "execution_count": 23,
   "id": "0e57ccc3",
   "metadata": {},
   "outputs": [
    {
     "data": {
      "text/plain": [
       "Index(['NU_ANO', 'CO_CURSO', 'CO_IES', 'CO_CATEGAD', 'CO_ORGACAD', 'CO_GRUPO',\n",
       "       'CO_MODALIDADE', 'CO_MUNIC_CURSO', 'CO_UF_CURSO', 'CO_REGIAO_CURSO'],\n",
       "      dtype='object')"
      ]
     },
     "execution_count": 23,
     "metadata": {},
     "output_type": "execute_result"
    }
   ],
   "source": [
    "df_curso_2017.columns"
   ]
  },
  {
   "cell_type": "code",
   "execution_count": 24,
   "id": "0f6e682a",
   "metadata": {},
   "outputs": [],
   "source": [
    "# Recorte dos cursos de interesse\n",
    "\n",
    "# Como so precisamos relacionar cada CO_CURSO com suas respectivas caracteristicas, podemos remover as linhas duplicadas.\n",
    "df_curso_2014 = df_curso_2014.drop_duplicates()\n",
    "df_curso_2017 = df_curso_2017.drop_duplicates()\n",
    "\n",
    "# Variáveis de interesse\n",
    "\n",
    "# CO_MODALIDADE / 0 : EAD , 1 : Presencial\n",
    "\n",
    "# CO_UF_CURSO / Uf do curso\n",
    "\n",
    "# CO_GRUPO / Código do grupo\n",
    "# Grupos de interesse:\n",
    "\n",
    "# Licenciaturas\n",
    "\n",
    "# 702 : \"Matemática (Licenciatura)\",\n",
    "# 904 : \"Letras-Português (Licenciatura)\",\n",
    "# 905 : \"Letras-Português e Inglês (Licenciatura)\",\n",
    "# 906 : \"Letras-Português e Espanhol (Licenciatura)\",\n",
    "# 1402 : \"Física (Licenciatura)\",\n",
    "# 1502 : \"Química (Licenciatura)\",\n",
    "# 1602 : \"Ciências Biológicas (Licenciatura)\",\n",
    "# 2001 : \"Pedagogia (Licenciatura)\",\n",
    "# 2402 : \"História (Licenciatura)\",\n",
    "# 2501 : \"Artes Visuais (Licenciatura)\",\n",
    "# 3002 : \"Geografia (Licenciatura)\",\n",
    "# 3202 : \"Filosofia (Licenciatura)\",\n",
    "# 3502 : \"Educação Física (Licenciatura)\",\n",
    "# 4301 : \"Música (Licenciatura)\",\n",
    "# 5402 : \"Ciências Sociais (Licenciatura)\",\n",
    "# 6407 : \"Letras-Inglês (Licenciatura)\"   NAO TEM NA BASE DE 2014 MAS TEM NA 2017\n",
    "\n",
    "# Bacharelados\n",
    "\n",
    "#1501 : Química (Bacharelado)\n",
    "#1601 : Ciências Biológicas (Bacharelado)\n",
    "#2401 : História (Bacharelado)\n",
    "#3001 : Geografia (Bacharelado)\n",
    "#3201 : Filosofia (Bacharelado)\n",
    "#3501 : Educação Física (Bacharelado)  NAO TEM ESSE NA BASE DE 2017 E NEM NA DE 2014\n",
    "#5401 : Ciências Sociais (Bacharelado)\n",
    "\n",
    "\n",
    "\n",
    "#O CURSO 6407 (LETRAS-INGLES LICENCIATURA) NAO TEM NA BASE DE 2014, POREM TEM NA DE 2017\n",
    "# O CURSO 3501 (EDUCACAO FISICA BACHARELADO) NAO TEM NA BASE DE 2014 E NEM NA DE 2017\n",
    "\n",
    "co_grupo_licenciaturas = [702, 904, 905, 906, 1402, 1502, 1602, 2001, 2402, 2501, 3002, 3202, 3502, 4301, 5402, 6407]\n",
    "co_grupo_bacharelados = [1501, 1601, 2401, 3001, 3201, 3501, 5401]\n",
    "\n",
    "# Identificando licenciaturas\n",
    "df_curso_2014_especificos = df_curso_2014.copy()\n",
    "df_curso_2017_especificos = df_curso_2017.copy()\n",
    "\n",
    "\n",
    "\n",
    "df_curso_2014_especificos['ID_LICENCIATURAS'] = 0\n",
    "df_curso_2014_especificos.loc[df_curso_2014_especificos['CO_GRUPO'].isin(co_grupo_licenciaturas), 'ID_LICENCIATURAS'] = 1\n",
    "\n",
    "df_curso_2017_especificos['ID_LICENCIATURAS'] = 0\n",
    "df_curso_2017_especificos.loc[df_curso_2017_especificos['CO_GRUPO'].isin(co_grupo_licenciaturas), 'ID_LICENCIATURAS'] = 1\n",
    "\n",
    "# Matendo apenas colunas de interesse\n",
    "\n",
    "df_curso_2014_especificos = df_curso_2014_especificos[['CO_CURSO', 'CO_GRUPO', 'CO_CATEGAD', 'CO_UF_CURSO', 'ID_LICENCIATURAS']]\n",
    "\n",
    "df_curso_2017_especificos = df_curso_2017_especificos[['CO_CURSO', 'CO_GRUPO', 'CO_CATEGAD', 'CO_UF_CURSO', 'ID_LICENCIATURAS']]\n",
    "\n",
    "# Matendo apenas cursos de interesse\n",
    "\n",
    "df_curso_2014_especificos = df_curso_2014_especificos.loc[((df_curso_2014_especificos['CO_GRUPO'].isin(co_grupo_licenciaturas)) | (df_curso_2014_especificos['CO_GRUPO'].isin(co_grupo_bacharelados)))]\n",
    "\n",
    "df_curso_2017_especificos = df_curso_2017_especificos.loc[((df_curso_2017_especificos['CO_GRUPO'].isin(co_grupo_licenciaturas)) | (df_curso_2017_especificos['CO_GRUPO'].isin(co_grupo_bacharelados)))]"
   ]
  },
  {
   "cell_type": "code",
   "execution_count": 25,
   "id": "58cca2ed",
   "metadata": {},
   "outputs": [
    {
     "data": {
      "text/html": [
       "<div>\n",
       "<style scoped>\n",
       "    .dataframe tbody tr th:only-of-type {\n",
       "        vertical-align: middle;\n",
       "    }\n",
       "\n",
       "    .dataframe tbody tr th {\n",
       "        vertical-align: top;\n",
       "    }\n",
       "\n",
       "    .dataframe thead th {\n",
       "        text-align: right;\n",
       "    }\n",
       "</style>\n",
       "<table border=\"1\" class=\"dataframe\">\n",
       "  <thead>\n",
       "    <tr style=\"text-align: right;\">\n",
       "      <th></th>\n",
       "      <th>CO_CURSO</th>\n",
       "      <th>CO_GRUPO</th>\n",
       "      <th>CO_CATEGAD</th>\n",
       "      <th>CO_UF_CURSO</th>\n",
       "      <th>ID_LICENCIATURAS</th>\n",
       "    </tr>\n",
       "  </thead>\n",
       "  <tbody>\n",
       "    <tr>\n",
       "      <th>87</th>\n",
       "      <td>1000030</td>\n",
       "      <td>702</td>\n",
       "      <td>4</td>\n",
       "      <td>11</td>\n",
       "      <td>1</td>\n",
       "    </tr>\n",
       "    <tr>\n",
       "      <th>188</th>\n",
       "      <td>100010</td>\n",
       "      <td>3502</td>\n",
       "      <td>4</td>\n",
       "      <td>51</td>\n",
       "      <td>1</td>\n",
       "    </tr>\n",
       "    <tr>\n",
       "      <th>275</th>\n",
       "      <td>10002</td>\n",
       "      <td>2001</td>\n",
       "      <td>5</td>\n",
       "      <td>33</td>\n",
       "      <td>1</td>\n",
       "    </tr>\n",
       "    <tr>\n",
       "      <th>301</th>\n",
       "      <td>100021</td>\n",
       "      <td>4301</td>\n",
       "      <td>1</td>\n",
       "      <td>23</td>\n",
       "      <td>1</td>\n",
       "    </tr>\n",
       "    <tr>\n",
       "      <th>319</th>\n",
       "      <td>100024</td>\n",
       "      <td>4301</td>\n",
       "      <td>1</td>\n",
       "      <td>12</td>\n",
       "      <td>1</td>\n",
       "    </tr>\n",
       "    <tr>\n",
       "      <th>...</th>\n",
       "      <td>...</td>\n",
       "      <td>...</td>\n",
       "      <td>...</td>\n",
       "      <td>...</td>\n",
       "      <td>...</td>\n",
       "    </tr>\n",
       "    <tr>\n",
       "      <th>478156</th>\n",
       "      <td>99940</td>\n",
       "      <td>2402</td>\n",
       "      <td>4</td>\n",
       "      <td>42</td>\n",
       "      <td>1</td>\n",
       "    </tr>\n",
       "    <tr>\n",
       "      <th>479343</th>\n",
       "      <td>99950</td>\n",
       "      <td>3002</td>\n",
       "      <td>4</td>\n",
       "      <td>42</td>\n",
       "      <td>1</td>\n",
       "    </tr>\n",
       "    <tr>\n",
       "      <th>479943</th>\n",
       "      <td>99952</td>\n",
       "      <td>702</td>\n",
       "      <td>4</td>\n",
       "      <td>42</td>\n",
       "      <td>1</td>\n",
       "    </tr>\n",
       "    <tr>\n",
       "      <th>480882</th>\n",
       "      <td>99968</td>\n",
       "      <td>904</td>\n",
       "      <td>4</td>\n",
       "      <td>42</td>\n",
       "      <td>1</td>\n",
       "    </tr>\n",
       "    <tr>\n",
       "      <th>481695</th>\n",
       "      <td>DJ1</td>\n",
       "      <td>904</td>\n",
       "      <td>4</td>\n",
       "      <td>41</td>\n",
       "      <td>1</td>\n",
       "    </tr>\n",
       "  </tbody>\n",
       "</table>\n",
       "<p>5973 rows × 5 columns</p>\n",
       "</div>"
      ],
      "text/plain": [
       "       CO_CURSO  CO_GRUPO  CO_CATEGAD  CO_UF_CURSO  ID_LICENCIATURAS\n",
       "87      1000030       702           4           11                 1\n",
       "188      100010      3502           4           51                 1\n",
       "275       10002      2001           5           33                 1\n",
       "301      100021      4301           1           23                 1\n",
       "319      100024      4301           1           12                 1\n",
       "...         ...       ...         ...          ...               ...\n",
       "478156    99940      2402           4           42                 1\n",
       "479343    99950      3002           4           42                 1\n",
       "479943    99952       702           4           42                 1\n",
       "480882    99968       904           4           42                 1\n",
       "481695      DJ1       904           4           41                 1\n",
       "\n",
       "[5973 rows x 5 columns]"
      ]
     },
     "execution_count": 25,
     "metadata": {},
     "output_type": "execute_result"
    }
   ],
   "source": [
    "df_curso_2014_especificos"
   ]
  }
 ],
 "metadata": {
  "kernelspec": {
   "display_name": "Python 3 (ipykernel)",
   "language": "python",
   "name": "python3"
  },
  "language_info": {
   "codemirror_mode": {
    "name": "ipython",
    "version": 3
   },
   "file_extension": ".py",
   "mimetype": "text/x-python",
   "name": "python",
   "nbconvert_exporter": "python",
   "pygments_lexer": "ipython3",
   "version": "3.11.5"
  }
 },
 "nbformat": 4,
 "nbformat_minor": 5
}
